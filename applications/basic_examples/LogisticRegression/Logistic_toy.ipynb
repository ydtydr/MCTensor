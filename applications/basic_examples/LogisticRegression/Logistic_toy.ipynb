{
 "cells": [
  {
   "cell_type": "code",
   "execution_count": 1,
   "metadata": {},
   "outputs": [],
   "source": [
    "import sys\n",
    "sys.path.append('../')\n",
    "\n",
    "import torch\n",
    "import numpy as np\n",
    "import torch.nn as nn\n",
    "import random\n",
    "import os\n",
    "import matplotlib.pyplot as plt\n",
    "from MCTensor.MCModule import *\n",
    "from MCTensor import MCOptim\n",
    "from tqdm import tqdm\n",
    "from sklearn import datasets\n",
    "from sklearn.model_selection import train_test_split\n",
    "from sklearn.datasets import make_classification\n",
    "\n",
    "def seed_everything(seed=1234):\n",
    "    random.seed(seed)\n",
    "    os.environ['PYTHONHASHSEED'] = str(seed)\n",
    "    np.random.seed(seed)\n",
    "    torch.manual_seed(seed)\n",
    "    torch.cuda.manual_seed(seed)\n",
    "    torch.backends.cudnn.deterministic = True\n",
    "\n",
    "\n",
    "###############################################################################\n",
    "d16 = torch.float16\n",
    "d32 = torch.float32\n",
    "d64 = torch.float64\n",
    "cpu = torch.device(\"cpu\")\n",
    "gpu = torch.device(type='cuda', index=0)\n",
    "# set device\n",
    "device = gpu"
   ]
  },
  {
   "cell_type": "code",
   "execution_count": 2,
   "metadata": {},
   "outputs": [],
   "source": [
    "def synthetic_binary_data(seed=42):\n",
    "    separable = False\n",
    "    while not separable:\n",
    "        samples = make_classification(\n",
    "            n_samples=1000, n_features=2, n_redundant=0,\n",
    "            n_informative=1, n_clusters_per_class=1, flip_y=-1)\n",
    "        red = samples[0][samples[1] == 0]\n",
    "        blue = samples[0][samples[1] == 1]\n",
    "        separable = any([red[:, k].max() < blue[:, k].min(\n",
    "        ) or red[:, k].min() > blue[:, k].max() for k in range(2)])\n",
    "    red_labels = np.zeros(len(red))\n",
    "    blue_labels = np.ones(len(blue))\n",
    "    labels = np.append(red_labels, blue_labels)\n",
    "    inputs = np.concatenate((red, blue), axis=0)\n",
    "    X_train, X_test, y_train,  y_test = train_test_split(\n",
    "        inputs, labels, test_size=0.33, random_state=seed)\n",
    "    return X_train, X_test, y_train, y_test\n"
   ]
  },
  {
   "cell_type": "code",
   "execution_count": 3,
   "metadata": {},
   "outputs": [],
   "source": [
    "X_train, X_test, y_train, y_test = synthetic_binary_data()\n",
    "\n",
    "def get_dataset(dtype, device):\n",
    "    X_train64, X_test64 = torch.from_numpy(X_train).to(\n",
    "        device), torch.from_numpy(X_test).to(device)\n",
    "    y_train64, y_test64 = torch.from_numpy(y_train).to(\n",
    "        device), torch.from_numpy(y_test).to(device)\n",
    "    if dtype == d64:\n",
    "        return X_train64, X_test64, y_train64, y_test64\n",
    "    elif dtype == d32:\n",
    "        X_train32, y_train32 = X_train64.to(d32), y_train64.to(d32)\n",
    "        X_test32, y_test32 = X_test64.to(d32), y_test64.to(d32)\n",
    "        return X_train32, X_test32, y_train32, y_test32\n",
    "    else:  # dtype = d16\n",
    "        X_train16, y_train16 = X_train64.to(d16), y_train64.to(d16)\n",
    "        X_test16, y_test16 = X_test64.to(d16), y_test64.to(d16)\n",
    "        return X_train16, X_test16, y_train16, y_test16\n"
   ]
  },
  {
   "cell_type": "code",
   "execution_count": 4,
   "metadata": {},
   "outputs": [],
   "source": [
    "def MCSGD(model, lr=0.001):\n",
    "    grad = model.linear.weight.grad\n",
    "    new = model.linear.weight.detach() - lr*grad\n",
    "    model.linear.weight.fc.data.copy_(new.fc.data)\n",
    "    model.linear.weight.data.copy_(new.data)\n",
    "    return\n",
    "\n",
    "\n",
    "def zero_grad(model):\n",
    "    if model.linear.weight.grad is not None:\n",
    "        model.linear.weight.grad.zero_()\n",
    "\n",
    "\n",
    "class LogisticRegression(torch.nn.Module):\n",
    "    def __init__(self, input_dim, dtype=d16, device=cpu,\n",
    "                 init_weight=None):\n",
    "        super(LogisticRegression, self).__init__()\n",
    "        self.linear = torch.nn.Linear(input_dim, 1, dtype=dtype,\n",
    "                                      device=device, bias=False)\n",
    "        if init_weight is not None:\n",
    "            self.linear.weight.data = init_weight.clone().to(dtype).to(device) \n",
    "\n",
    "    def forward(self, x):\n",
    "        x = self.linear(x)\n",
    "        return torch.sigmoid(x)\n",
    "\n",
    "\n",
    "class MCLogisticRegression(nn.Module):\n",
    "    def __init__(self, input_dim, nc, dtype=d32, device=cpu, init_weight=None):\n",
    "        super(MCLogisticRegression, self).__init__()\n",
    "        self.linear = MCLinear(input_dim, 1, nc, bias=False, dtype=dtype,\n",
    "                               device=device, _weight=init_weight)\n",
    "\n",
    "    def forward(self, x):\n",
    "        x = self.linear(x)\n",
    "        x = x.tensor[..., 0]\n",
    "        return torch.sigmoid(x)\n",
    "\n",
    "    def parameters(self):\n",
    "        return self.linear.parameters()"
   ]
  },
  {
   "cell_type": "code",
   "execution_count": 5,
   "metadata": {},
   "outputs": [],
   "source": [
    "def train_MC(dtype, nc=2, epochs=1000, lr=0.001, device=device,\n",
    "                init_weight=torch.zeros(2, 1)):\n",
    "    X_train, X_test, y_train, y_test = get_dataset(dtype, device)\n",
    "    LOSS, LOSS_test = [], []\n",
    "    acc, acc_test = [], []\n",
    "    model = MCLogisticRegression(len(X_train[0]), nc, dtype=dtype, device=device,\n",
    "                               init_weight=init_weight.t())\n",
    "    criterion = torch.nn.BCELoss()\n",
    "    mc_optimizer = MCOptim.MCSGD(model.parameters(), lr)\n",
    "    #mc_optimizer = MCOptim.MCAdam(model.parameters(), lr)\n",
    "\n",
    "    def get_acc(output, target):\n",
    "        predicted = torch.squeeze(output).to(cpu).to(d64).round()\n",
    "        n_correct = torch.sum(predicted == target.to(cpu).to(d64)).item()\n",
    "        return 100 * n_correct/target.size(0)\n",
    "\n",
    "    for epoch in tqdm(range(epochs)):\n",
    "        mc_optimizer.zero_grad()\n",
    "        output = model(X_train)\n",
    "        loss = criterion(torch.squeeze(output), y_train)\n",
    "        loss_d64 = criterion(torch.squeeze(\n",
    "            output).to(d64), y_train.to(d64)).item()\n",
    "        LOSS.append(loss_d64)\n",
    "        acc.append(get_acc(output, y_train))\n",
    "        loss.backward()\n",
    "        mc_optimizer.step()\n",
    "\n",
    "        # getting test result\n",
    "        output_test = model(X_test)\n",
    "        loss_d64 = criterion(torch.squeeze(\n",
    "            output_test).to(d64), y_test.to(d64)).item()\n",
    "        acc_test.append(get_acc(output_test, y_test))\n",
    "        LOSS_test.append(loss_d64)\n",
    "    return LOSS, acc, LOSS_test, acc_test\n"
   ]
  },
  {
   "cell_type": "code",
   "execution_count": 6,
   "metadata": {},
   "outputs": [],
   "source": [
    "def train_torch(dtype, epochs=1000, lr=0.001, device=device,\n",
    "                init_weight=torch.zeros(2, 1)):\n",
    "    X_train, X_test, y_train, y_test = get_dataset(dtype, device)\n",
    "    LOSS, LOSS_test = [], []\n",
    "    acc, acc_test = [], []\n",
    "    model = LogisticRegression(len(X_train[0]), dtype=dtype, device=device,\n",
    "                               init_weight=init_weight.t())\n",
    "    criterion = torch.nn.BCELoss()\n",
    "    optimizer = torch.optim.SGD(model.parameters(), lr=lr)\n",
    "    #optimizer = torch.optim.Adam(model.parameters(), lr=lr)\n",
    "    #print(\"model dtype is:\", model.linear.weight.dtype)\n",
    "\n",
    "    def get_acc(output, target):\n",
    "        predicted = torch.squeeze(output).to(cpu).to(d64).round()\n",
    "        n_correct = torch.sum(predicted == target.to(cpu).to(d64)).item()\n",
    "        return 100 * n_correct/target.size(0)\n",
    "\n",
    "    for epoch in tqdm(range(epochs)):\n",
    "        optimizer.zero_grad()\n",
    "        output = model(X_train)\n",
    "        loss = criterion(torch.squeeze(output), y_train)\n",
    "        with torch.no_grad():\n",
    "            output_test = model(X_test)\n",
    "            loss_d64 = criterion(torch.squeeze(\n",
    "                output_test).to(d64), y_test.to(d64)).item()\n",
    "            acc_test.append(get_acc(output_test, y_test))\n",
    "            LOSS_test.append(loss_d64)\n",
    "            loss_d64 = criterion(torch.squeeze(\n",
    "                output).to(d64), y_train.to(d64)).item()\n",
    "            LOSS.append(loss_d64)\n",
    "            acc.append(get_acc(output, y_train))\n",
    "        \n",
    "        loss.backward()\n",
    "        optimizer.step()        \n",
    "    return LOSS, acc, LOSS_test, acc_test\n"
   ]
  },
  {
   "cell_type": "code",
   "execution_count": 7,
   "metadata": {},
   "outputs": [
    {
     "name": "stderr",
     "output_type": "stream",
     "text": [
      "100%|██████████| 4000/4000 [00:09<00:00, 426.25it/s]\n",
      "100%|██████████| 4000/4000 [00:09<00:00, 437.80it/s]\n",
      "100%|██████████| 4000/4000 [00:09<00:00, 418.99it/s]"
     ]
    },
    {
     "name": "stdout",
     "output_type": "stream",
     "text": [
      "Final training loss for torch models: 0.318647670812284 0.25280256244634713 0.2528026070033831\n",
      "Final training acc for torch models: 99.85074626865672 99.85074626865672 99.85074626865672\n"
     ]
    },
    {
     "name": "stderr",
     "output_type": "stream",
     "text": [
      "\n"
     ]
    }
   ],
   "source": [
    "epochs = 4000; lr = 1e-3\n",
    "loss16, acc16, loss_test16, acc_test16 = train_torch(d16, epochs=epochs, lr=lr)\n",
    "loss32, acc32, loss_test32, acc_test32 = train_torch(d32, epochs=epochs, lr=lr)\n",
    "loss64, acc64, loss_test64, acc_test64 = train_torch(d64, epochs=epochs, lr=lr)\n",
    "print(\"Final training loss for torch models:\", loss16[-1], loss32[-1], loss64[-1])\n",
    "print(\"Final training acc for torch models:\", acc16[-1], acc32[-1], acc64[-1])"
   ]
  },
  {
   "cell_type": "code",
   "execution_count": 8,
   "metadata": {},
   "outputs": [
    {
     "name": "stderr",
     "output_type": "stream",
     "text": [
      "100%|██████████| 4000/4000 [00:42<00:00, 94.39it/s] \n",
      "100%|██████████| 4000/4000 [00:55<00:00, 71.91it/s]\n",
      "100%|██████████| 4000/4000 [01:19<00:00, 50.15it/s]"
     ]
    },
    {
     "name": "stdout",
     "output_type": "stream",
     "text": [
      "Final training loss for MCT models: 0.318647670812284 0.2528701805537754 0.2528701805537754\n",
      "Final training acc for MCT models: 99.85074626865672 99.85074626865672 99.85074626865672\n"
     ]
    },
    {
     "name": "stderr",
     "output_type": "stream",
     "text": [
      "\n"
     ]
    }
   ],
   "source": [
    "epochs = 4000; lr = 1e-3\n",
    "loss_nc1, acc_nc1, loss_test_nc1, acc_test_nc1 = train_MC(d16, nc=1, epochs=epochs, lr=lr)\n",
    "loss_nc2, acc_nc2, loss_test_nc2, acc_test_nc2 = train_MC(d16, nc=2, epochs=epochs, lr=lr)\n",
    "loss_nc3, acc_nc3, loss_test_nc3, acc_test_nc3 = train_MC(d16, nc=3, epochs=epochs, lr=lr)\n",
    "print(\"Final training loss for MCT models:\", loss_nc1[-1], loss_nc2[-1], loss_nc3[-1])\n",
    "print(\"Final training acc for MCT models:\", acc_nc1[-1], acc_nc2[-1], acc_nc3[-1])"
   ]
  },
  {
   "cell_type": "code",
   "execution_count": 9,
   "metadata": {},
   "outputs": [
    {
     "data": {
      "image/png": "[encoded data removed]",
      "text/plain": [
       "<Figure size 1000x500 with 1 Axes>"
      ]
     },
     "metadata": {},
     "output_type": "display_data"
    }
   ],
   "source": [
    "plt.figure(figsize=(10, 5))\n",
    "plt.plot(range(epochs), loss16, label=\"torch Loss float16\")\n",
    "plt.plot(range(epochs), loss32, label=\"torch Loss float32\")\n",
    "plt.plot(range(epochs), loss64, label=\"torch Loss float64\")\n",
    "plt.plot(range(epochs), loss_nc1, label=\"MCT Loss float16 nc=1\")\n",
    "plt.plot(range(epochs), loss_nc2, label=\"MCT Loss float16 nc=2\")\n",
    "plt.plot(range(epochs), loss_nc3, label=\"MCT Loss float16 nc=3\")\n",
    "plt.xlabel('Iterations')\n",
    "# plt.xscale('log')\n",
    "plt.ylabel('Loss')\n",
    "plt.yscale('log')\n",
    "plt.legend()\n",
    "plt.show()"
   ]
  }
 ],
 "metadata": {
  "kernelspec": {
   "display_name": "Python 3.9.7 ('base')",
   "language": "python",
   "name": "python3"
  },
  "language_info": {
   "codemirror_mode": {
    "name": "ipython",
    "version": 3
   },
   "file_extension": ".py",
   "mimetype": "text/x-python",
   "name": "python",
   "nbconvert_exporter": "python",
   "pygments_lexer": "ipython3",
   "version": "3.9.7"
  },
  "vscode": {
   "interpreter": {
    "hash": "81500b74941066436bb9c0ce60ae368b95d04480670b429e37a4858a9ae2c893"
   }
  }
 },
 "nbformat": 4,
 "nbformat_minor": 2
}

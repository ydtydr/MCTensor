{
 "cells": [
  {
   "cell_type": "code",
   "execution_count": 1,
   "metadata": {},
   "outputs": [],
   "source": [
    "import sys\n",
    "import torch\n",
    "import numpy as np\n",
    "import torch.nn as nn\n",
    "import torch.utils.data as data_utils\n",
    "import torch.nn.functional as F\n",
    "import random, math, os\n",
    "import matplotlib.pyplot as plt\n",
    "from MCTensor.MCModule import MCLinear, MCModule\n",
    "from tqdm import tqdm\n",
    "from sklearn import datasets, preprocessing\n",
    "from sklearn.model_selection import train_test_split\n",
    "from sklearn.datasets import make_classification\n",
    "from MCTensor import MCOptim\n",
    "\n",
    "def seed_everything(seed=1234):\n",
    "    random.seed(seed)\n",
    "    os.environ['PYTHONHASHSEED'] = str(seed)\n",
    "    np.random.seed(seed)\n",
    "    torch.manual_seed(seed)\n",
    "    torch.cuda.manual_seed(seed)\n",
    "    torch.backends.cudnn.deterministic = True\n",
    "###############################################################################\n",
    "d16 = torch.float16; d32 = torch.float32; d64 = torch.float64\n",
    "cpu = torch.device(\"cpu\"); gpu = torch.device(type='cuda', index=0)\n",
    "# set device\n",
    "device = gpu\n",
    "torch.set_printoptions(precision=6)"
   ]
  },
  {
   "cell_type": "code",
   "execution_count": 2,
   "metadata": {},
   "outputs": [],
   "source": [
    "def cancer_data(seed=1234):\n",
    "    breastCancer = datasets.load_breast_cancer()\n",
    "    X = breastCancer.data\n",
    "    y = breastCancer.target\n",
    "    X_train, X_test, y_train, y_test = train_test_split(X, y, test_size=0.2, random_state=seed)\n",
    "    scaler = preprocessing.StandardScaler().fit(X_train)\n",
    "    X_train = scaler.transform(X_train)\n",
    "    X_test = scaler.transform(X_test)\n",
    "    return X_train, X_test, y_train, y_test\n"
   ]
  },
  {
   "cell_type": "code",
   "execution_count": 3,
   "metadata": {},
   "outputs": [],
   "source": [
    "X_train, X_test, y_train, y_test = cancer_data()\n",
    "def get_dataset(dtype, device):\n",
    "    X_train64, X_test64 = torch.from_numpy(X_train).to(\n",
    "        device), torch.from_numpy(X_test).to(device)\n",
    "    y_train64, y_test64 = torch.from_numpy(y_train).to(\n",
    "        device).to(d64), torch.from_numpy(y_test).to(device).to(d64)\n",
    "    if dtype == d64:\n",
    "        return X_train64, X_test64, y_train64, y_test64\n",
    "    elif dtype == d32:\n",
    "        X_train32, y_train32 = X_train64.to(d32), y_train64.to(d32)\n",
    "        X_test32, y_test32 = X_test64.to(d32), y_test64.to(d32)\n",
    "        return X_train32, X_test32, y_train32, y_test32\n",
    "    else:  # dtype = d16\n",
    "        X_train16, y_train16 = X_train64.to(d16), y_train64.to(d16)\n",
    "        X_test16, y_test16 = X_test64.to(d16), y_test64.to(d16)\n",
    "        return X_train16, X_test16, y_train16, y_test16\n",
    "\n",
    "def init_weights(X_train, hidden1, hidden2, seed=1234):\n",
    "    seed_everything(seed=seed)\n",
    "    input_dim = len(X_train[0])\n",
    "    std1 = 1./math.sqrt(hidden1)\n",
    "    fc1_w = torch.zeros(input_dim, hidden1)\n",
    "    fc1_w.data.uniform_(-std1, std1)\n",
    "    std2 = 1./math.sqrt(hidden2)\n",
    "    fc2_w = torch.zeros(hidden1, hidden2)\n",
    "    fc2_w.data.uniform_(-std2, std2)\n",
    "    fc3_w = torch.zeros(hidden2, 1)\n",
    "    fc3_w.data.uniform_(-1e-1, 1e-1)\n",
    "    return fc1_w, fc2_w, fc3_w\n"
   ]
  },
  {
   "cell_type": "code",
   "execution_count": 18,
   "metadata": {},
   "outputs": [],
   "source": [
    "class MLP(torch.nn.Module):\n",
    "    def __init__(self, input_dim, hidden1, hidden2, dtype=d16, device=cpu,\n",
    "                 fc1_w=None, fc2_w=None, fc3_w=None):\n",
    "        super(MLP, self).__init__()\n",
    "        self.fc1 = torch.nn.Linear(input_dim, hidden1, dtype=dtype,\n",
    "                                   device=device, bias=False)\n",
    "        self.fc2 = torch.nn.Linear(hidden1, hidden2, dtype=dtype,\n",
    "                                   device=device, bias=False)\n",
    "        self.fc3 = torch.nn.Linear(hidden2, 1, dtype=dtype,\n",
    "                                   device=device, bias=False)\n",
    "        if fc1_w is not None:             \n",
    "            self.fc1.weight.data.copy_(fc1_w.data.to(dtype))\n",
    "        if fc2_w is not None:\n",
    "            self.fc2.weight.data.copy_(fc2_w.data.to(dtype))\n",
    "        if fc3_w is not None:\n",
    "            self.fc3.weight.data.copy_(fc3_w.data.to(dtype))\n",
    " \n",
    "    def forward(self, x):\n",
    "        x = F.relu(self.fc1(x))\n",
    "        x = F.relu(self.fc2(x))\n",
    "        x = self.fc3(x)\n",
    "        x = torch.sigmoid(x)\n",
    "        return x\n",
    "   \n",
    "class MCMLP(MCModule):\n",
    "    def __init__(self, input_dim, hidden1, hidden2, nc=2, dtype=d16, device=device,\n",
    "                 fc1_w=None, fc2_w=None, fc3_w=None):\n",
    "        super(MCMLP, self).__init__()\n",
    "        self.fc1 = MCLinear(input_dim, hidden1, nc=nc, bias=False,\n",
    "                            dtype=dtype, device=device, _weight=fc1_w)\n",
    "        self.fc2 = MCLinear(hidden1, hidden2, nc=nc, bias=False,\n",
    "                            dtype=dtype, device=device, _weight=fc2_w)\n",
    "        self.fc3 = MCLinear(hidden2, 1, nc=nc, bias=False,\n",
    "                            dtype=dtype, device=device, _weight=fc3_w)\n",
    "        \n",
    "    # def forward(self, x):\n",
    "    #     x = F.relu(self.fc1(x))\n",
    "    #     x = x.tensor[..., 0]\n",
    "    #     x = F.relu(self.fc2(x))\n",
    "    #     x = x.tensor[..., 0]\n",
    "    #     x = self.fc3(x)\n",
    "    #     x = x.tensor[..., 0]\n",
    "    #     x = torch.sigmoid(x)        \n",
    "    #     return x \n",
    "\n",
    "    def forward(self, x):\n",
    "        x = F.relu(self.fc1(x))\n",
    "        x = x.tensor[..., 0]\n",
    "        x = F.relu(self.fc2(x))\n",
    "        x = x.tensor[..., 0]\n",
    "        x = self.fc3(x)\n",
    "        x = x.tensor[..., 0]\n",
    "        x = torch.sigmoid(x)    \n",
    "        return x \n"
   ]
  },
  {
   "cell_type": "code",
   "execution_count": 5,
   "metadata": {},
   "outputs": [],
   "source": [
    "def train_torch(dtype, epochs=50, hidden1=50, hidden2=50, lr=0.001,\n",
    "                device=device, init_seed=1234, B=32):\n",
    "    X_train, X_test, y_train, y_test = get_dataset(dtype, device)\n",
    "    LOSS, LOSS_test, acc, acc_test = [], [], [], []\n",
    "    fc1_w, fc2_w, fc3_w = init_weights(X_train, hidden1, hidden2, seed=init_seed)\n",
    "    model = MLP(len(X_train[0]), hidden1, hidden2,\n",
    "                               dtype=dtype, device=device,\n",
    "                               fc1_w=fc1_w.t(), fc2_w=fc2_w.t(), fc3_w=fc3_w.t())\n",
    "    criterion = torch.nn.BCELoss()\n",
    "    optimizer = torch.optim.SGD(model.parameters(), lr=lr)\n",
    " \n",
    "    def get_acc(output, target):\n",
    "        predicted = torch.squeeze(output).to(cpu).to(d64).round()\n",
    "        n_correct = torch.sum(predicted == target.to(cpu).to(d64)).item()\n",
    "        return 100 * n_correct/target.size(0)\n",
    "\n",
    "    for epoch in tqdm(range(epochs)):\n",
    "        optimizer.zero_grad()\n",
    "        output = model(X_train)\n",
    "        loss = criterion(torch.squeeze(output), y_train)\n",
    "        with torch.no_grad():\n",
    "            output_test = model(X_test)\n",
    "            loss_d64 = criterion(torch.squeeze(\n",
    "                output_test).to(d64), y_test.to(d64)).item()\n",
    "            acc_test.append(get_acc(output_test, y_test))\n",
    "            LOSS_test.append(loss_d64)\n",
    "            loss_d64 = criterion(torch.squeeze(\n",
    "                output).to(d64), y_train.to(d64)).item()\n",
    "            LOSS.append(loss_d64)\n",
    "            acc.append(get_acc(output, y_train))\n",
    "        loss.backward()\n",
    "        optimizer.step()\n",
    "\n",
    "    return model, LOSS, acc, LOSS_test, acc_test\n"
   ]
  },
  {
   "cell_type": "code",
   "execution_count": 19,
   "metadata": {},
   "outputs": [],
   "source": [
    "def train_MC_MCSGD(dtype, nc=2, hidden1=50, hidden2=50, epochs=1000, lr=0.001,\n",
    "             device=device, init_seed=1234):\n",
    "    X_train, X_test, y_train, y_test = get_dataset(dtype, device)\n",
    "    fc1_w, fc2_w, fc3_w = init_weights(\n",
    "        X_train, hidden1, hidden2, seed=init_seed)\n",
    "    LOSS, LOSS_test = [], []\n",
    "    acc, acc_test = [], []\n",
    "    model = MCMLP(len(X_train[0]), hidden1, hidden2, nc=nc,\n",
    "                                 dtype=dtype, device=device,\n",
    "                                 fc1_w=fc1_w.t(), fc2_w=fc2_w.t(), fc3_w=fc3_w.t())\n",
    "    criterion = torch.nn.BCELoss()\n",
    "    optimizer = MCOptim.MCSGD(model.parameters(), lr)\n",
    "\n",
    "    def get_acc(output, target):\n",
    "        predicted = torch.squeeze(output).to(cpu).to(d64).round()\n",
    "        n_correct = torch.sum(predicted == target.to(cpu).to(d64)).item()\n",
    "        return 100 * n_correct/target.size(0)\n",
    "\n",
    "    for epoch in tqdm(range(epochs)):\n",
    "        optimizer.zero_grad()\n",
    "        output = model(X_train)\n",
    "        loss = criterion(torch.squeeze(output), y_train)\n",
    "        with torch.no_grad():\n",
    "            loss_d64 = criterion(torch.squeeze(\n",
    "                output).to(d64), y_train.to(d64)).item()\n",
    "            LOSS.append(loss_d64)\n",
    "            acc.append(get_acc(output, y_train))\n",
    "            output_test = model(X_test)\n",
    "            loss_d64 = criterion(torch.squeeze(\n",
    "                output_test).to(d64), y_test.to(d64)).item()\n",
    "            acc_test.append(get_acc(output_test, y_test))\n",
    "            LOSS_test.append(loss_d64)\n",
    "        loss.backward()\n",
    "        optimizer.step()   \n",
    "    return model, LOSS, acc, LOSS_test, acc_test\n"
   ]
  },
  {
   "cell_type": "code",
   "execution_count": 20,
   "metadata": {},
   "outputs": [],
   "source": [
    "def train_MC_MCAdam(dtype, nc=2, hidden1=50, hidden2=50, epochs=1000, lr=0.001,\n",
    "             device=device, init_seed=1234):\n",
    "    X_train, X_test, y_train, y_test = get_dataset(dtype, device)\n",
    "    fc1_w, fc2_w, fc3_w = init_weights(\n",
    "        X_train, hidden1, hidden2, seed=init_seed)\n",
    "    LOSS, LOSS_test = [], []\n",
    "    acc, acc_test = [], []\n",
    "    model = MCMLP(len(X_train[0]), hidden1, hidden2, nc=nc,\n",
    "                                 dtype=dtype, device=device,\n",
    "                                 fc1_w=fc1_w.t(), fc2_w=fc2_w.t(), fc3_w=fc3_w.t())\n",
    "    criterion = torch.nn.BCELoss()\n",
    "    optimizer = MCOptim.MCAdam(model.parameters(), lr)\n",
    "\n",
    "    def get_acc(output, target):\n",
    "        predicted = torch.squeeze(output).to(cpu).to(d64).round()\n",
    "        n_correct = torch.sum(predicted == target.to(cpu).to(d64)).item()\n",
    "        return 100 * n_correct/target.size(0)\n",
    "\n",
    "    for epoch in tqdm(range(epochs)):\n",
    "        optimizer.zero_grad()\n",
    "        output = model(X_train)\n",
    "        loss = criterion(torch.squeeze(output), y_train)\n",
    "        with torch.no_grad():\n",
    "            loss_d64 = criterion(torch.squeeze(\n",
    "                output).to(d64), y_train.to(d64)).item()\n",
    "            LOSS.append(loss_d64)\n",
    "            acc.append(get_acc(output, y_train))\n",
    "            output_test = model(X_test)\n",
    "            loss_d64 = criterion(torch.squeeze(\n",
    "                output_test).to(d64), y_test.to(d64)).item()\n",
    "            acc_test.append(get_acc(output_test, y_test))\n",
    "            LOSS_test.append(loss_d64)\n",
    "        loss.backward()\n",
    "        optimizer.step()   \n",
    "    return model, LOSS, acc, LOSS_test, acc_test\n"
   ]
  },
  {
   "cell_type": "code",
   "execution_count": 8,
   "metadata": {},
   "outputs": [
    {
     "name": "stderr",
     "output_type": "stream",
     "text": [
      "100%|██████████| 900/900 [00:04<00:00, 203.00it/s]\n",
      "100%|██████████| 900/900 [00:03<00:00, 227.07it/s]\n",
      "100%|██████████| 900/900 [00:03<00:00, 257.49it/s]"
     ]
    },
    {
     "name": "stdout",
     "output_type": "stream",
     "text": [
      "Final training loss for torch models: 0.13605498177570574 0.12327520038154002 0.12327519625170483\n",
      "Final training acc for torch models: 96.7032967032967 96.7032967032967 96.7032967032967\n",
      "Final test loss for torch models: 0.2156919548733454 0.20858663107793107 0.2085866010152335\n",
      "Final test acc for torch models: 91.2280701754386 91.2280701754386 91.2280701754386\n"
     ]
    },
    {
     "name": "stderr",
     "output_type": "stream",
     "text": [
      "\n"
     ]
    }
   ],
   "source": [
    "torch.cuda.empty_cache()\n",
    "epochs = 900; lr = 7e-3; h1 = 128; h2 = 64\n",
    "model16, loss16, acc16, loss_test16, acc_test16 = train_torch(d16, hidden1=h1, hidden2=h2,\n",
    "                                                               epochs=epochs, lr=lr)\n",
    "model32, loss32, acc32, loss_test32, acc_test32 = train_torch(d32, hidden1=h1, hidden2=h2,\n",
    "                                                              epochs=epochs, lr=lr)\n",
    "model64, loss64, acc64, loss_test64, acc_test64 = train_torch(d64, hidden1=h1, hidden2=h2,\n",
    "                                                              epochs=epochs, lr=lr)\n",
    "print(\"Final training loss for torch models:\", loss16[-1], loss32[-1], loss64[-1])\n",
    "print(\"Final training acc for torch models:\", acc16[-1], acc32[-1], acc64[-1])\n",
    "print(\"Final test loss for torch models:\", loss_test16[-1], loss_test32[-1], loss_test64[-1])\n",
    "print(\"Final test acc for torch models:\", acc_test16[-1], acc_test32[-1], acc_test64[-1])\n"
   ]
  },
  {
   "cell_type": "code",
   "execution_count": 21,
   "metadata": {},
   "outputs": [
    {
     "name": "stderr",
     "output_type": "stream",
     "text": [
      "100%|██████████| 900/900 [07:10<00:00,  2.09it/s]\n",
      "100%|██████████| 900/900 [10:12<00:00,  1.47it/s]\n",
      "100%|██████████| 900/900 [14:44<00:00,  1.02it/s]"
     ]
    },
    {
     "name": "stdout",
     "output_type": "stream",
     "text": [
      "Final training loss for MCT models: 0.13607080999738963 0.12328685979994056 0.12328733605087748\n",
      "Final training acc for MCT models: 96.7032967032967 96.7032967032967 96.7032967032967\n",
      "Final test loss for MCT models: 0.21573715345009215 0.20855017486597827 0.20854222946281734\n",
      "Final test acc for MCT models: 91.2280701754386 91.2280701754386 91.2280701754386\n"
     ]
    },
    {
     "name": "stderr",
     "output_type": "stream",
     "text": [
      "\n"
     ]
    }
   ],
   "source": [
    "torch.cuda.empty_cache()\n",
    "epochs = 900; lr = 7e-3; h1 = 128; h2 = 64\n",
    "modelnc1, loss_nc1, acc_nc1, loss_test_nc1, acc_test_nc1 = train_MC_MCSGD(d16, nc=1, hidden1=h1, hidden2=h2,\n",
    "                                                                         epochs=epochs, lr=lr)\n",
    "modelnc2, loss_nc2, acc_nc2, loss_test_nc2, acc_test_nc2 = train_MC_MCSGD(d16, nc=2, hidden1=h1, hidden2=h2,\n",
    "                                                                    epochs=epochs, lr=lr)\n",
    "modelnc3, loss_nc3, acc_nc3, loss_test_nc3, acc_test_nc3 = train_MC_MCSGD(d16, nc=3, hidden1=h1, hidden2=h2,\n",
    "                                                                    epochs=epochs, lr=lr)\n",
    "print(\"Final training loss for MCT models:\", loss_nc1[-1], loss_nc2[-1], loss_nc3[-1])\n",
    "print(\"Final training acc for MCT models:\", acc_nc1[-1], acc_nc2[-1], acc_nc3[-1])\n",
    "print(\"Final test loss for MCT models:\", loss_test_nc1[-1], loss_test_nc2[-1], loss_test_nc3[-1])\n",
    "print(\"Final test acc for MCT models:\", acc_test_nc1[-1], acc_test_nc2[-1], acc_test_nc3[-1])"
   ]
  },
  {
   "cell_type": "code",
   "execution_count": null,
   "metadata": {},
   "outputs": [
    {
     "data": {
      "image/png": "[encoded data removed]",
      "text/plain": [
       "<Figure size 720x360 with 1 Axes>"
      ]
     },
     "metadata": {
      "needs_background": "light"
     },
     "output_type": "display_data"
    }
   ],
   "source": [
    "plt.figure(figsize=(10, 5))\n",
    "plt.plot(range(epochs), loss16, label=\"torch Loss float16\")\n",
    "plt.plot(range(epochs), loss32, label=\"torch Loss float32\")\n",
    "plt.plot(range(epochs), loss64, label=\"torch Loss float64\")\n",
    "plt.plot(range(epochs), loss_nc1, label=\"MCT Loss float16 nc=1\")\n",
    "plt.plot(range(epochs), loss_nc2, label=\"MCT Loss float16 nc=2\")\n",
    "plt.plot(range(epochs), loss_nc3, label=\"MCT Loss float16 nc=3\")\n",
    "plt.xlabel('Iterations')\n",
    "# plt.xscale('log')\n",
    "plt.ylabel('Loss')\n",
    "plt.yscale('log')\n",
    "plt.legend()\n",
    "plt.show()"
   ]
  }
 ],
 "metadata": {
  "kernelspec": {
   "display_name": "Python 3.9.7 ('base')",
   "language": "python",
   "name": "python3"
  },
  "language_info": {
   "codemirror_mode": {
    "name": "ipython",
    "version": 3
   },
   "file_extension": ".py",
   "mimetype": "text/x-python",
   "name": "python",
   "nbconvert_exporter": "python",
   "pygments_lexer": "ipython3",
   "version": "3.9.7"
  },
  "orig_nbformat": 4,
  "vscode": {
   "interpreter": {
    "hash": "81500b74941066436bb9c0ce60ae368b95d04480670b429e37a4858a9ae2c893"
   }
  }
 },
 "nbformat": 4,
 "nbformat_minor": 2
}
